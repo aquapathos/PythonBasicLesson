{
 "cells": [
  {
   "cell_type": "markdown",
   "metadata": {},
   "source": [
    "# 条件分岐\n",
    "\n",
    "~~~\n",
    "if 条件 :\n",
    "    条件が成立した時に実行するブロック\n",
    "~~~\n",
    "\n",
    "~~~\n",
    "if 条件 :\n",
    "    条件が真の時に実行するブロック\n",
    "else :\n",
    "    条件が偽の時に実行するブロック\n",
    "~~~\n",
    "\n",
    "~~~\n",
    "if 条件１ :\n",
    "    条件１が真の時に実行するブロック\n",
    "elif 条件２:\n",
    "    条件１が偽で、条件２が真の時に実行するブロック\n",
    "~~~\n",
    "\n",
    "~~~\n",
    "if 条件１ :\n",
    "    条件１が真の時に実行するブロック\n",
    "elif 条件２:\n",
    "    (条件１が偽で)条件２が真の時に実行するブロック\n",
    "elif 条件３:\n",
    "    (条件１と２が偽で）条件３が真の時に実行するブロック\n",
    "...\n",
    "else :\n",
    "    ここまでの条件がすべて偽の時に実行するブロック\n",
    "~~~\n",
    "\n",
    "#### 例\n",
    "~~~\n",
    "n = eval(input(\"得点を入力（100点満点）\"))\n",
    "if n >=90 :\n",
    "    print(\"S\")\n",
    "elif n>= 80:\n",
    "    print(\"A\")\n",
    "elif n>= 70:\n",
    "    print(\"B\")\n",
    "elif n>= 60:\n",
    "    print(\"C\")\n",
    "else:\n",
    "    print(\"不合格\")\n",
    "~~~\n",
    "---\n",
    "~~~\n",
    "s = list(range(90,101))\n",
    "a = list(range(80,90))\n",
    "b = list(range(70,80))\n",
    "c = list(range(60,70))\n",
    "n = eval(input(\"得点を入力（100点満点）\"))\n",
    "if n in s:\n",
    "    print(\"S\")\n",
    "elif n in a:\n",
    "    print(\"A\")\n",
    "elif n in b:\n",
    "    print(\"B\")\n",
    "elif n in c:\n",
    "    print(\"C\")\n",
    "else:\n",
    "    print(\"S\")\n",
    "~~~"
   ]
  },
  {
   "cell_type": "markdown",
   "metadata": {},
   "source": [
    "# 課題 \n",
    "例を試しなさい"
   ]
  },
  {
   "cell_type": "code",
   "execution_count": null,
   "metadata": {
    "collapsed": true
   },
   "outputs": [],
   "source": []
  },
  {
   "cell_type": "code",
   "execution_count": null,
   "metadata": {
    "collapsed": true
   },
   "outputs": [],
   "source": []
  },
  {
   "cell_type": "markdown",
   "metadata": {},
   "source": [
    "# for ループ\n",
    "与えられた範囲やリストの各要素について繰り返す\n",
    "\n",
    "#### 例\n",
    "~~~\n",
    "for even in range(0,10,2):\n",
    "    print(f\"{even:>d}     {even*even:>2d}\")\n",
    "0      0\n",
    "2      4\n",
    "4     16\n",
    "6     36\n",
    "8     64\n",
    "~~~\n",
    "---\n",
    "~~~\n",
    "for name in [\"太郎\", \"花子\", \"杉作\"]:\n",
    "    print(name,\"さん\",sep=\"\")\n",
    "太郎さん\n",
    "花子さん\n",
    "杉作さん\n",
    "~~~"
   ]
  },
  {
   "cell_type": "markdown",
   "metadata": {},
   "source": []
  },
  {
   "cell_type": "markdown",
   "metadata": {},
   "source": [
    "# 課題\n",
    "例を試しなさい"
   ]
  },
  {
   "cell_type": "code",
   "execution_count": null,
   "metadata": {
    "collapsed": true
   },
   "outputs": [],
   "source": []
  },
  {
   "cell_type": "code",
   "execution_count": null,
   "metadata": {
    "collapsed": true
   },
   "outputs": [],
   "source": []
  },
  {
   "cell_type": "markdown",
   "metadata": {},
   "source": [
    "# while ループ\n",
    "条件が成立している間繰り返す\n",
    "\n",
    "#### 例\n",
    "~~~\n",
    "n = eval(input(\"１０以下の自然数を入れてください\")\n",
    "x = 0\n",
    "while x < n:\n",
    "    print(x)\n",
    "    x += 1\n",
    "~~~\n",
    "---\n",
    "~~~\n",
    "i = 1\n",
    "s = 0\n",
    "while i <=100:\n",
    "    s += i\n",
    "    i += 1\n",
    "print(\"1 から 100までの和は\",s)\n",
    "~~~\n",
    "---\n",
    "~~~\n",
    "＃ ５００からはじめ、１０以下になるまで半分にしていく\n",
    "n = 500\n",
    "while n > 10:\n",
    "    print(n)\n",
    "    n //= 2\n",
    "~~~\n",
    "\n"
   ]
  },
  {
   "cell_type": "code",
   "execution_count": 127,
   "metadata": {},
   "outputs": [
    {
     "name": "stdout",
     "output_type": "stream",
     "text": [
      "1024\n",
      "512\n",
      "256\n",
      "128\n",
      "64\n",
      "32\n",
      "16\n",
      "8\n"
     ]
    }
   ],
   "source": [
    "n = 1024\n",
    "while n > 10:\n",
    "    print(n)\n",
    "    n //= 2\n",
    "print(n)"
   ]
  },
  {
   "cell_type": "markdown",
   "metadata": {},
   "source": [
    "# break, pass, continue\n",
    "### break\n",
    "繰り返しから抜け出る\n",
    "### pass\n",
    "何もしない\n",
    "### continue\n",
    "繰り返しの最初に戻る\n",
    "\n",
    "＃＃＃＃　例\n",
    "- １０未満の数で、３ で割れる数以外を印刷\n",
    "~~~\n",
    "for i in range(10):\n",
    "    if i % 3 == 0:\n",
    "        pass\n",
    "    else:\n",
    "        print(i)\n",
    "~~~\n",
    "---\n",
    "- 28 と ２8 の最小公倍数を見つける\n",
    "for i in range(1000):\n",
    "    if i == 0:\n",
    "        continue\n",
    "    if i % 23 == 0 and i % 28 == 0:\n",
    "        print(i)\n",
    "        break\n",
    "~~~\n",
    "---\n",
    "- 謝ってばかりいるマヌケな植物は\n",
    "str = \"スイマセン\"\n",
    "for s in str:\n",
    "    if s == \"マ\":\n",
    "        continue\n",
    "    print(s)\n",
    "~~~\n"
   ]
  },
  {
   "cell_type": "code",
   "execution_count": null,
   "metadata": {
    "collapsed": true
   },
   "outputs": [],
   "source": []
  },
  {
   "cell_type": "code",
   "execution_count": null,
   "metadata": {
    "collapsed": true
   },
   "outputs": [],
   "source": []
  },
  {
   "cell_type": "markdown",
   "metadata": {},
   "source": [
    "# zip と enumerate\n",
    "- **zip** ２つのリストの要素対のリストを作る\n",
    " \n",
    "#### 例\n",
    "~~~~\n",
    "list(zip(['a','b','c'],[1,2,3])) \n",
    "[('a', 1), ('b', 2), ('c', 3)]\n",
    "~~~\n",
    "---\n",
    "~~~\n",
    "zlist = zip(['a','b','c'],[1,2,3])\n",
    "for i in zlist:\n",
    "    print(i)\n",
    "('a', 1)\n",
    "('b', 2)\n",
    "('c', 3)\n",
    "\n",
    "for name, i in zlist:\n",
    "    print(i,\"　番は\",name)\n",
    "('a', 1)\n",
    "('b', 2)\n",
    "('c', 3)\n",
    "~~~\n",
    "\n",
    "- **enumerate** \n",
    "~~~\n",
    "for index, name in enumerate([\"花子\",\"太郎\",\"次郎\",\"順子\"]):\n",
    "    print(index, name)\n",
    "1 花子\n",
    "2 太郎\n",
    "3 次郎\n",
    "4 順子\n",
    "~~~\n",
    "\n",
    "# 課題１\n",
    "ここまでの例を試しなさい。\n",
    "\n",
    "# 課題２\n",
    "~~~\n",
    "numbers = list(range(0,110,10))\n",
    "result = []\n",
    "for n in numbers:\n",
    "    a = 2.5*n\n",
    "    if a % 2 == 0:\n",
    "        result.append(int(a))\n",
    "result\n",
    "~~~\n",
    "1. まず、上のプログラムを実行してみなさい。\n",
    "2. 上のプログラムと同じ動作をするプログラムを while ループで作りなさい。\n"
   ]
  },
  {
   "cell_type": "code",
   "execution_count": null,
   "metadata": {
    "collapsed": true
   },
   "outputs": [],
   "source": []
  },
  {
   "cell_type": "markdown",
   "metadata": {},
   "source": [
    " # リスト内包表現\n",
    " \n",
    " **リストの内包表現とは、数学における集合の**内包的定義**のようなものである。\n",
    " \n",
    " 復習しよう。集合の定義の仕方には「**外延的定義**」と「**内包的定義**」がある。\n",
    "\n",
    "**外延的定義** とは、要素を具体的に枚挙する方法で、例えば、A={1,2,3,4,6,12}のような定義法である。\n",
    "\n",
    "**内包的定義**とは、要素の満たすべき条件を記述する方法で、A={x|xは12の正の約数}のような定義法である。\n",
    "\n",
    "リスト内包表現を使うとプログラムのコードをコンパクトにできる。例をみてみよう。\n",
    "\n",
    "まず、０から９までの整数の平方（二乗）のリストを作るプログラム"
   ]
  },
  {
   "cell_type": "code",
   "execution_count": 152,
   "metadata": {},
   "outputs": [
    {
     "data": {
      "text/plain": [
       "[0, 1, 4, 9, 16, 25, 36, 49, 64, 81]"
      ]
     },
     "execution_count": 152,
     "metadata": {},
     "output_type": "execute_result"
    }
   ],
   "source": [
    "s = []\n",
    "for i in range(10):\n",
    "    s.append(i**2)\n",
    "s"
   ]
  },
  {
   "cell_type": "markdown",
   "metadata": {},
   "source": [
    "内包表現を使うと、これと同じリストsを１行で生成できる。"
   ]
  },
  {
   "cell_type": "code",
   "execution_count": 154,
   "metadata": {},
   "outputs": [
    {
     "data": {
      "text/plain": [
       "[0, 1, 4, 9, 16, 25, 36, 49, 64, 81]"
      ]
     },
     "execution_count": 154,
     "metadata": {},
     "output_type": "execute_result"
    }
   ],
   "source": [
    "s=[i**2 for i in range(10)]\n",
    "s"
   ]
  },
  {
   "cell_type": "markdown",
   "metadata": {},
   "source": [
    "別の例"
   ]
  },
  {
   "cell_type": "code",
   "execution_count": 155,
   "metadata": {},
   "outputs": [
    {
     "data": {
      "text/plain": [
       "['小さい犬', '小さい猫', '小さいハムスター', '小さいうさぎ', '小さい金魚']"
      ]
     },
     "execution_count": 155,
     "metadata": {},
     "output_type": "execute_result"
    }
   ],
   "source": [
    "animals = [\"犬\",\"猫\",\"ハムスター\",\"うさぎ\",\"金魚\"]\n",
    "littles = []\n",
    "for a in animals:\n",
    "    littles.append(\"小さい\"+a)\n",
    "littles"
   ]
  },
  {
   "cell_type": "markdown",
   "metadata": {},
   "source": [
    "内包表現を使うと、これと同じリストを次の１行で生成できる。"
   ]
  },
  {
   "cell_type": "code",
   "execution_count": 156,
   "metadata": {},
   "outputs": [
    {
     "data": {
      "text/plain": [
       "['小さい犬', '小さい猫', '小さいハムスター', '小さいうさぎ', '小さい金魚']"
      ]
     },
     "execution_count": 156,
     "metadata": {},
     "output_type": "execute_result"
    }
   ],
   "source": [
    "['小さい'+ani for ani in animals]"
   ]
  },
  {
   "cell_type": "code",
   "execution_count": null,
   "metadata": {
    "collapsed": true
   },
   "outputs": [],
   "source": []
  }
 ],
 "metadata": {
  "kernelspec": {
   "display_name": "Python 3",
   "language": "python",
   "name": "python3"
  },
  "language_info": {
   "codemirror_mode": {
    "name": "ipython",
    "version": 3
   },
   "file_extension": ".py",
   "mimetype": "text/x-python",
   "name": "python",
   "nbconvert_exporter": "python",
   "pygments_lexer": "ipython3",
   "version": "3.6.2"
  }
 },
 "nbformat": 4,
 "nbformat_minor": 2
}
