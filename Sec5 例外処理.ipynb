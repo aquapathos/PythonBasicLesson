{
 "cells": [
  {
   "cell_type": "markdown",
   "metadata": {},
   "source": [
    "# ラムダ表現\n",
    "\n",
    "関数定義が return 式１行で済む場合、def を使わずに lambda 式で関数を定義することもできる。\n",
    "\n",
    "def を使って、\n",
    "~~~ python\n",
    "def sum3(a1,a2,a3):\n",
    "    return a1+a2+a3\n",
    "~~~\n",
    "とするのと、\n",
    "~~~ python\n",
    "sum3 =  lambda a1,a2,a3: a1+a2+a3\n",
    "~~~\n",
    "は同じ意味である。\n",
    "\n",
    "- **lambda** は関数の定義の始まりを表しており、それに引数の並びが続き、：で区切って返り値の計算式が続く。\n",
    "\n",
    "**lambda** による関数定義は、上のように一旦変数に代入して使う以外に、直接式中で使うこともできる。\n",
    "\n",
    "例えば\n",
    "~~~ python\n",
    "(lambda a1,a2,a3: (a1+a2+a3)/3)(10,20,15)\n",
    "~~~\n",
    "で３つの数の平均値を求めることができる。\n",
    "\n",
    "#### 条件分岐の場合\n",
    "~~~ python\n",
    "def level(point):\n",
    "    if point >= 60 : \n",
    "        return \"合格\"\n",
    "    elif point>=40:\n",
    "        return \"再テスト\"\n",
    "    else:\n",
    "        return \"不合格\"\n",
    "~~~\n",
    "は\n",
    "~~~ python\n",
    "level = lambda point: \"合格\" if point >= 60 else \"再テスト\" if point >=40 else \"不合格\"\n",
    "~~~\n",
    "に等しい。"
   ]
  },
  {
   "cell_type": "code",
   "execution_count": 33,
   "metadata": {},
   "outputs": [
    {
     "data": {
      "text/plain": [
       "'再テスト'"
      ]
     },
     "execution_count": 33,
     "metadata": {},
     "output_type": "execute_result"
    }
   ],
   "source": [
    "level = lambda point: \"合格\" if point >= 60 else \"再テスト\" if point >=40 else \"不合格\"\n",
    "level(40)"
   ]
  },
  {
   "cell_type": "code",
   "execution_count": 34,
   "metadata": {},
   "outputs": [
    {
     "data": {
      "text/plain": [
       "'合格'"
      ]
     },
     "execution_count": 34,
     "metadata": {},
     "output_type": "execute_result"
    }
   ],
   "source": [
    "(lambda point: \"合格\" if point >= 60 else \"再テスト\" if point >=40 else \"不合格\")(65)"
   ]
  },
  {
   "cell_type": "markdown",
   "metadata": {},
   "source": []
  },
  {
   "cell_type": "markdown",
   "metadata": {},
   "source": [
    "# 例外処理"
   ]
  },
  {
   "cell_type": "markdown",
   "metadata": {},
   "source": [
    "## エラー\n",
    "\n",
    "python のプログラムで出会うエラーには次のようなものがある。\n",
    "- SyntaxError　→ 文法間違い\n",
    "- IndentationError → インデントがおかしい\n",
    "- ImportError → モジュールが存在しない\n",
    "- AttributeError → 属性が存在しない\n",
    "- ZeroDivisionError  → 0  で割ろうとした\n",
    "- NameError　→ 初期化されていない変数を計算に使おうとしている\n",
    "- TypeError → 型が間違っている\n",
    "\n",
    "例えば、数値データを入力してもらって計算を進めるプログラムでユーザが文字を入力してしまったら、タイプエラーが発生する。\n",
    "\n",
    "### TypeError の例\n",
    "~~~ python\n",
    "10+\"A\"\n",
    "TypeError: unsupported operand type(s) for +: 'int' and 'str'\n",
    "~~~\n",
    "\n",
    "通常、エラーが発生すると、その時点でプログラムの実行は停止してしまうが、大抵のプログラミング言語には、エラー発生時の例外処理を記述する条件分岐構文が用意されており、その構文を使えばエラーが発生してもプログラムを停止させずに処理を続けることができる。\n",
    "\n",
    "## try ~ except 構文\n",
    "\n",
    "> ~~~ python\n",
    " try:\n",
    "     エラー発生の可能性のある文\n",
    " except:\n",
    "    　 エラー発生時に実行する文    \n",
    "> ~~~\n",
    "\n",
    "> ~~~ python\n",
    " try:\n",
    "     エラー発生の可能性のある文\n",
    " except エラータイプ:\n",
    "    　 エラー発生時に実行する文    \n",
    "> ~~~\n",
    "\n",
    "\n",
    "#### 例\n",
    "~~~ python\n",
    "while True:\n",
    "    a = input(\"データを入力してください\")\n",
    "    try :\n",
    "        print(100*eval(a))\n",
    "        break\n",
    "    except:\n",
    "        print(\"入力は数値に限ります\")\n",
    "20\n",
    "2000\n",
    "A\n",
    "入力は数値に限ります\n",
    "~~~\n",
    "\n",
    "~~~ python\n",
    "def divide(x,y):\n",
    "    try:\n",
    "        return (x/y)\n",
    "    except ZeroDivisionError:\n",
    "        print(\"Zero Division Error\")\n",
    "    except TypeError: \n",
    "        print(\"Type Error\")\n",
    "divide(100,5)\n",
    "20\n",
    "divide(100,\"A\")\n",
    "Type Error\n",
    "divide(100,0)\n",
    "Zero Division Error\n",
    "~~~\n",
    "\n",
    "~~~ python\n",
    "accepts = '桃太郎', '犬', '猿', 'キジ\"\n",
    "while True:\n",
    "    name = input(\"名前を入れてください)\n",
    "    try:\n",
    "        name in accepts\n",
    "        print(\"ようこそ\")\n",
    "        break\n",
    "    except:\n",
    "        print(\"およびでない\")\n",
    "~~~"
   ]
  },
  {
   "cell_type": "code",
   "execution_count": null,
   "metadata": {
    "collapsed": true
   },
   "outputs": [],
   "source": []
  }
 ],
 "metadata": {
  "kernelspec": {
   "display_name": "Python 3",
   "language": "python",
   "name": "python3"
  },
  "language_info": {
   "codemirror_mode": {
    "name": "ipython",
    "version": 3
   },
   "file_extension": ".py",
   "mimetype": "text/x-python",
   "name": "python",
   "nbconvert_exporter": "python",
   "pygments_lexer": "ipython3",
   "version": "3.6.2"
  }
 },
 "nbformat": 4,
 "nbformat_minor": 2
}
