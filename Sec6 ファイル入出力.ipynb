{
 "cells": [
  {
   "cell_type": "markdown",
   "metadata": {},
   "source": [
    "# ** open **, **with open**\n",
    "\n",
    "ファイル入出力のモード\n",
    "\n",
    "- **w** 書き込み専用\n",
    "- **r** 読み出し専用\n",
    "- **r+** 読み書き\n",
    "- **a** 追加書き込み\n",
    "\n",
    "## 書き込み\n",
    "~~~ python\n",
    "filename = \"./test.txt\"\n",
    "f = open(filename, \"w\") # 書き込み専用でオープン\n",
    "print(f)\n",
    "<_io.TextIOWrapper name='./test.txt' mode='w' encoding='UTF-8'>\n",
    "~~~\n",
    "~~~ python\n",
    "f.write(\"我輩は猫である\\n\")\n",
    "f.write(\"名前はまだ無い\")\n",
    "f.close() \n",
    "~~~\n",
    "open したファイルは必ず close しないといけない。\n",
    "\n",
    "## 追加書き込み\n",
    "~~~ python\n",
    "filename = \"./test.txt\"\n",
    "with open(filename, \"a\")  as g :\n",
    "    g.write(\"国境の長いトンネルを抜けると\\n\")\n",
    "    g.write(\"そこは北国だった\")\n",
    "~~~\n",
    "**with open** の構文を使った場合は、自動でファイルは close されるので、close 文は不要。\n",
    "\n",
    "## 読み出し\n",
    "~~~ python\n",
    "filename = \"./test.txt\"\n",
    "f2 = open(filename,\"r\")\n",
    "print(f2.read())\n",
    "f2.close()\n",
    "~~~\n",
    " read() はファイルのテキスト全体の読み込み\n",
    "\n",
    "~~~ python\n",
    "filename = \"./test.txt\"\n",
    "f2 = open(filename,\"r\")\n",
    "# readlien  1行読み込み\n",
    "print(1,f2.readline())    \n",
    "print(2,f2.readline())\n",
    "f2.close()\n",
    "~~~\n",
    "readline() は１行の読み込み\n",
    "\n",
    "~~~ python\n",
    "f2 = open(filename,\"r\")\n",
    "line = f2.readlines()\n",
    "f2.close()\n",
    "print(line)\n",
    "print(\"\".join(line))\n",
    "print(\"\".join(line).replace(\"\\n\",\"ーー\"))\n",
    "~~~\n",
    "readlines はテキスト全体を読み込み、行のリストを返す"
   ]
  },
  {
   "cell_type": "code",
   "execution_count": null,
   "metadata": {},
   "outputs": [],
   "source": []
  },
  {
   "cell_type": "code",
   "execution_count": null,
   "metadata": {
    "collapsed": true
   },
   "outputs": [],
   "source": []
  },
  {
   "cell_type": "code",
   "execution_count": null,
   "metadata": {
    "collapsed": true
   },
   "outputs": [],
   "source": []
  }
 ],
 "metadata": {
  "kernelspec": {
   "display_name": "Python 3",
   "language": "python",
   "name": "python3"
  },
  "language_info": {
   "codemirror_mode": {
    "name": "ipython",
    "version": 3
   },
   "file_extension": ".py",
   "mimetype": "text/x-python",
   "name": "python",
   "nbconvert_exporter": "python",
   "pygments_lexer": "ipython3",
   "version": "3.6.2"
  }
 },
 "nbformat": 4,
 "nbformat_minor": 2
}
